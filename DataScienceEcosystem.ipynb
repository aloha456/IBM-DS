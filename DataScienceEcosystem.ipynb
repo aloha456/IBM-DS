{
 "cells": [
  {
   "cell_type": "markdown",
   "id": "525efa10-3033-4ed9-9ebe-808802824ed5",
   "metadata": {},
   "source": [
    "# Data Science Tools and Ecosystem"
   ]
  },
  {
   "cell_type": "markdown",
   "id": "b7678c50-1a66-4143-ac28-a8b16d2ddc58",
   "metadata": {},
   "source": [
    "The following notebook provide a summary about Data Science Tools and Ecosystem."
   ]
  },
  {
   "cell_type": "markdown",
   "id": "1c7014f3-dd47-422c-9685-9a5dc6bd50b7",
   "metadata": {},
   "source": [
    "## Author\n",
    "Arunachalam Sundara Vadivel"
   ]
  },
  {
   "cell_type": "markdown",
   "id": "f1e0c033-c51c-46cc-b83b-4466ee10900e",
   "metadata": {},
   "source": [
    "**Objectives:**\n",
    "* List popular languages for Data Science\n",
    "* List commonly used libraries used by Data Scientists\n",
    "* List some of the popular Data Science Tools\n",
    "* List few examples of evaluating arithmetic expressions in Python"
   ]
  },
  {
   "cell_type": "markdown",
   "id": "cadb3faa-571c-4938-ab44-0192abcc7910",
   "metadata": {},
   "source": [
    "Some of the popular languages that Data Scientists use are:\n",
    "1. Python\n",
    "2. R\n",
    "3. Julia\n",
    "4. Matlab\n",
    "5. Javascript"
   ]
  },
  {
   "cell_type": "markdown",
   "id": "2ac20a43-d58d-4adb-a8cf-bee16e9f9428",
   "metadata": {},
   "source": [
    "Some of the commonly used libraries used by Data Scientists include:\n",
    "1. Pandas\n",
    "2. Numpy\n",
    "3. NLTK\n",
    "4. Tensorflow\n",
    "5. Pytorch"
   ]
  },
  {
   "cell_type": "markdown",
   "id": "5fe8e63c-eb32-4cb7-9c75-37a488976a22",
   "metadata": {},
   "source": [
    "| Data Science Tools |\n",
    "----------------------\n",
    "| Visual Studio Code |\n",
    "| Jupyter Notebooks |\n",
    "| Rstudio |"
   ]
  },
  {
   "cell_type": "markdown",
   "id": "cdaa5ef8-fbe9-43b5-9401-ba675468bce8",
   "metadata": {},
   "source": [
    "### Below are a few examples of evaluating arithmetic expressions in Python"
   ]
  },
  {
   "cell_type": "code",
   "execution_count": 5,
   "id": "0dddbc55-ca88-4234-aa89-f5d052927563",
   "metadata": {},
   "outputs": [
    {
     "data": {
      "text/plain": [
       "17"
      ]
     },
     "execution_count": 5,
     "metadata": {},
     "output_type": "execute_result"
    }
   ],
   "source": [
    "# This a simple arithmetic expression to mutiply then add integers\n",
    "(3 * 4) + 5"
   ]
  },
  {
   "cell_type": "code",
   "execution_count": 9,
   "id": "a90b0331-848b-4339-8364-46a2350ee867",
   "metadata": {},
   "outputs": [
    {
     "data": {
      "text/plain": [
       "3.3333333333333335"
      ]
     },
     "execution_count": 9,
     "metadata": {},
     "output_type": "execute_result"
    }
   ],
   "source": [
    "# This will convert 200 minutes to hours by diving by 60\n",
    "200 / 60"
   ]
  }
 ],
 "metadata": {
  "kernelspec": {
   "display_name": "Python 3 (ipykernel)",
   "language": "python",
   "name": "python3"
  },
  "language_info": {
   "codemirror_mode": {
    "name": "ipython",
    "version": 3
   },
   "file_extension": ".py",
   "mimetype": "text/x-python",
   "name": "python",
   "nbconvert_exporter": "python",
   "pygments_lexer": "ipython3",
   "version": "3.11.6"
  }
 },
 "nbformat": 4,
 "nbformat_minor": 5
}
